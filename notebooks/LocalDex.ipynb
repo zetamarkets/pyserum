{
 "cells": [
  {
   "cell_type": "code",
   "execution_count": 9,
   "metadata": {},
   "outputs": [
    {
     "data": {
      "text/plain": [
       "GetAccountInfoResp {\n",
       "    context: RpcResponseContext {\n",
       "        slot: 211894566,\n",
       "        api_version: Some(\n",
       "            \"1.14.23\",\n",
       "        ),\n",
       "    },\n",
       "    value: Some(\n",
       "        Account(\n",
       "            Account {\n",
       "                lamports: 1003601360,\n",
       "                data.len: 388,\n",
       "                owner: 9xQeWvG816bUx9EPjHmaT23yvVM2ZWbrrpZb9PusVFin,\n",
       "                executable: false,\n",
       "                rent_epoch: 361,\n",
       "                data: 736572756d030000000000000084c2fb18aed619f546632653ef06029f02a864bf3829867181bb20df1d715c300100000000000000069b8857feab8184fb687f,\n",
       "            },\n",
       "        ),\n",
       "    ),\n",
       "}"
      ]
     },
     "execution_count": 9,
     "metadata": {},
     "output_type": "execute_result"
    }
   ],
   "source": [
    "from solana.rpc.api import Client\n",
    "from solana.utils.cluster import cluster_api_url\n",
    "from solders.pubkey import Pubkey\n",
    "\n",
    "local_client = Client(cluster_api_url(\"mainnet_beta\"))\n",
    "local_dex = Pubkey.from_string(\"9wFFyRfZBsuAha4YcuxcXLKwMxJR43S7fPfQLusDBzvT\") # SOL/USDC market\n",
    "local_client.get_account_info(local_dex)"
   ]
  },
  {
   "cell_type": "code",
   "execution_count": null,
   "metadata": {},
   "outputs": [],
   "source": []
  }
 ],
 "metadata": {
  "kernelspec": {
   "display_name": "Python 3",
   "language": "python",
   "name": "python3"
  },
  "language_info": {
   "codemirror_mode": {
    "name": "ipython",
    "version": 3
   },
   "file_extension": ".py",
   "mimetype": "text/x-python",
   "name": "python",
   "nbconvert_exporter": "python",
   "pygments_lexer": "ipython3",
   "version": "3.9.7"
  }
 },
 "nbformat": 4,
 "nbformat_minor": 4
}
